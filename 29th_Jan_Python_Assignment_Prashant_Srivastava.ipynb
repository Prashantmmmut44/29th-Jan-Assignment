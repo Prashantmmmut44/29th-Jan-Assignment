{
 "cells": [
  {
   "cell_type": "markdown",
   "id": "e66fcd54-2ce0-407b-a2d9-1eb3de31f8ca",
   "metadata": {},
   "source": [
    "Question 1: Who developed Python Programming Language ?"
   ]
  },
  {
   "cell_type": "markdown",
   "id": "b7c61c78-6193-4b7b-9abd-1f1f2640d643",
   "metadata": {},
   "source": [
    "Answer : Guido van Rossum "
   ]
  },
  {
   "cell_type": "markdown",
   "id": "4e64ca5c-a015-4e34-addf-8f965a70d25b",
   "metadata": {},
   "source": [
    "Question 2: which type of programming does python support ?"
   ]
  },
  {
   "cell_type": "markdown",
   "id": "0875fbbb-fc7d-4a02-9cb5-13f91070fa27",
   "metadata": {},
   "source": [
    "Answer : Python is an interpreted programming language, supporting object-oriented, structured, and functional programming."
   ]
  },
  {
   "cell_type": "markdown",
   "id": "8f094979-d356-4533-9b7c-4930aba284d6",
   "metadata": {},
   "source": [
    "Question 3:Is Python case sensitive when dealing with identifiers?"
   ]
  },
  {
   "cell_type": "markdown",
   "id": "57e484a4-e2da-43b1-81f7-32fa50d7b629",
   "metadata": {},
   "source": [
    "Answer :Yes, Python is a case-sensitive language"
   ]
  },
  {
   "cell_type": "markdown",
   "id": "f6c75de9-623a-42c4-b6bf-73a108afaf25",
   "metadata": {},
   "source": [
    "Question 4:What is the correct extension of the Python file?\n"
   ]
  },
  {
   "cell_type": "markdown",
   "id": "3387dca2-d572-4ccf-aa45-787c91dbdfed",
   "metadata": {},
   "source": [
    "Answer :.py extension is the correct extension of the python file ."
   ]
  },
  {
   "cell_type": "markdown",
   "id": "9564c83b-bfd9-4bbf-9caf-f4ecc1f03a83",
   "metadata": {},
   "source": [
    "Question 5: Is Python code compiled or interpreted?"
   ]
  },
  {
   "cell_type": "markdown",
   "id": "ec79d6b5-eb8e-4ae1-a123-6931f105908e",
   "metadata": {},
   "source": [
    "Answer :Python is an interpreted language."
   ]
  },
  {
   "cell_type": "markdown",
   "id": "f5eb5b38-e8f1-475d-a78b-4ff6fe093a43",
   "metadata": {},
   "source": [
    "Question 6:Name a few blocks of code used to define in Python language?"
   ]
  },
  {
   "cell_type": "markdown",
   "id": "5f027990-153c-49fb-be59-6287adb4d27d",
   "metadata": {},
   "source": [
    "Answer :Indentation is used to define a block of code in python"
   ]
  },
  {
   "cell_type": "markdown",
   "id": "c873a561-cf09-4279-ae55-16e0486b7e88",
   "metadata": {},
   "source": [
    "Question 7:State a character used to give single-line comments in Python?"
   ]
  },
  {
   "cell_type": "markdown",
   "id": "ebf64690-dd80-415f-a580-5fecd15f325e",
   "metadata": {},
   "source": [
    "Answer :We can write a single-line comment by adding a single # character before any statement or line of code."
   ]
  },
  {
   "cell_type": "markdown",
   "id": "90bdf627-02d7-4b4a-b46e-99bc5e392262",
   "metadata": {},
   "source": [
    "Question 8:Mention functions which can help us to find the version of python that we are currently working on? "
   ]
  },
  {
   "cell_type": "markdown",
   "id": "825df4cd-cacb-409c-be0e-cb98590c605f",
   "metadata": {},
   "source": [
    "Answer :The function sys. version can help us to find the version of python that we are currently working on."
   ]
  },
  {
   "cell_type": "markdown",
   "id": "a47eedfa-8f0e-490d-9501-3de6169b09e6",
   "metadata": {},
   "source": [
    "Question 9:Python supports the creation of anonymous functions at runtime, using a construct called \n",
    "?"
   ]
  },
  {
   "cell_type": "markdown",
   "id": "18300000-6cdc-458b-a89d-8fb7b2cf8851",
   "metadata": {},
   "source": [
    "Answer :Python supports the creation of anonymous functions at runtime, using a construct called lambda."
   ]
  },
  {
   "cell_type": "markdown",
   "id": "82f535a3-5477-4bcb-bb71-5af07ddda04e",
   "metadata": {},
   "source": [
    "Question 10 : What does pip stand for python?"
   ]
  },
  {
   "cell_type": "markdown",
   "id": "a95f21aa-f964-4b12-8417-59845ef1a261",
   "metadata": {},
   "source": [
    "Answer :Preferred installer program"
   ]
  },
  {
   "cell_type": "markdown",
   "id": "d72891bf-e47b-478e-aef2-02e0e46e13d0",
   "metadata": {},
   "source": [
    "Question 11 : Mention a few built-in functions in python?"
   ]
  },
  {
   "cell_type": "markdown",
   "id": "b6ed9ab8-1191-4f04-8a34-af570de34365",
   "metadata": {},
   "source": [
    "Answer :\n",
    "print( ) function.\n",
    "type( ) function.\n",
    "input( ) function.\n",
    "abs( ) function.\n",
    "pow( ) function.\n",
    "dir( ) function.\n",
    "sorted( ) function.\n",
    "max( ) function."
   ]
  },
  {
   "cell_type": "markdown",
   "id": "81ca4d1c-e394-44a9-9d0f-e40f7d6d7b85",
   "metadata": {},
   "source": [
    "Question 12 : What is the maximum possible length of an identifier in Python?"
   ]
  },
  {
   "cell_type": "markdown",
   "id": "d17258ca-1eba-4be2-ac43-248b052e4a8d",
   "metadata": {},
   "source": [
    "Answer : An identifier can have a maximum length of 79 characters in Python."
   ]
  },
  {
   "cell_type": "markdown",
   "id": "3467dc0e-e2d2-4b97-9f83-a8ced91b711e",
   "metadata": {},
   "source": [
    "Question 13: What are the benefits of using Python?"
   ]
  },
  {
   "cell_type": "markdown",
   "id": "f0117e51-a1da-4304-95df-f18e1b62ae40",
   "metadata": {},
   "source": [
    "Answer : Below are the benefits of using Python :\n",
    "1-Easy to Learn and Use\n",
    "2-Hundreds of Python Libraries and Frameworks\n",
    "3-Versatility, Efficiency, Reliability, and Speed\n",
    "4- Used in Big data, Machine Learning and Cloud Computing\n",
    "5-First-choice Language\n",
    "6-The Flexibility of Python Language"
   ]
  },
  {
   "cell_type": "markdown",
   "id": "54548699-74ac-41b1-acc0-23dc2c5e2724",
   "metadata": {},
   "source": [
    "Question 14 : How is memory managed in Python? "
   ]
  },
  {
   "cell_type": "markdown",
   "id": "39ece22a-385f-4b8b-9da4-fa1d7bee9670",
   "metadata": {},
   "source": [
    "Answer : Memory in Python is managed by Python private heap space. All Python objects and data structures are located in a private heap. This private heap is taken care of by Python Interpreter itself, and a programmer doesn't have access to this private heap"
   ]
  },
  {
   "cell_type": "markdown",
   "id": "0020ae5b-4508-4ae9-b925-63c6bc043d35",
   "metadata": {},
   "source": [
    "Question 15 : How to install Python on Windows and set path variables? \n"
   ]
  },
  {
   "cell_type": "markdown",
   "id": "1a57aff7-c984-4077-9d71-94b9823b3282",
   "metadata": {},
   "source": [
    "Answer : Install python from this link https://www.python.org/downloads/\n",
    "After this, install it on your PC. Look for the location where PYTHON has been installed on your PC using tge following command on your command prompt: cmd python.\n",
    "Then go to advanced system settings and add new variable and name it as PYTHON_NAME and paste the copied path.\n",
    "Then look for the path variable, select it's value and select edit\n",
    "Add a semicolon towards the end of the value if it's not present and then type %PYTHON_HOME%"
   ]
  },
  {
   "cell_type": "markdown",
   "id": "1f79cb0f-c827-411f-9bc0-87b0044ed157",
   "metadata": {},
   "source": [
    "Question 16: Is indentation required in python? "
   ]
  },
  {
   "cell_type": "markdown",
   "id": "f33eedb0-7c07-42ff-bd3e-1373639f7f4d",
   "metadata": {},
   "source": [
    "Answer:  Yes, indentation is required in python."
   ]
  },
  {
   "cell_type": "code",
   "execution_count": null,
   "id": "e02e5def-1092-4327-b7ed-a58fbff5f45e",
   "metadata": {},
   "outputs": [],
   "source": []
  }
 ],
 "metadata": {
  "kernelspec": {
   "display_name": "Python 3 (ipykernel)",
   "language": "python",
   "name": "python3"
  },
  "language_info": {
   "codemirror_mode": {
    "name": "ipython",
    "version": 3
   },
   "file_extension": ".py",
   "mimetype": "text/x-python",
   "name": "python",
   "nbconvert_exporter": "python",
   "pygments_lexer": "ipython3",
   "version": "3.10.8"
  }
 },
 "nbformat": 4,
 "nbformat_minor": 5
}
